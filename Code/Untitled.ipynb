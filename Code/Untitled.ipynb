{
 "cells": [
  {
   "cell_type": "code",
   "execution_count": null,
   "id": "bcf17956",
   "metadata": {},
   "outputs": [],
   "source": [
    "class Employee:\n",
    "    \n",
    "    # constructor\n",
    "    def __init__(self, name, salary, project):\n",
    "        self.name = name\n",
    "        self.salary = salary\n",
    "        self.project = project"
   ]
  },
  {
   "cell_type": "code",
   "execution_count": 3,
   "id": "f8957728",
   "metadata": {},
   "outputs": [
    {
     "ename": "NameError",
     "evalue": "name 'Eployee' is not defined",
     "output_type": "error",
     "traceback": [
      "\u001b[1;31m---------------------------------------------------------------------------\u001b[0m",
      "\u001b[1;31mNameError\u001b[0m                                 Traceback (most recent call last)",
      "Input \u001b[1;32mIn [3]\u001b[0m, in \u001b[0;36m<cell line: 2>\u001b[1;34m()\u001b[0m\n\u001b[0;32m      1\u001b[0m \u001b[38;5;66;03m# creating object of a class\u001b[39;00m\n\u001b[1;32m----> 2\u001b[0m emp \u001b[38;5;241m=\u001b[39m \u001b[43mEployee\u001b[49m(\u001b[38;5;124m'\u001b[39m\u001b[38;5;124mJessa\u001b[39m\u001b[38;5;124m'\u001b[39m, \u001b[38;5;241m10000\u001b[39m)\n\u001b[0;32m      4\u001b[0m \u001b[38;5;66;03m# \u001b[39;00m\n\u001b[0;32m      5\u001b[0m \u001b[38;5;28mprint\u001b[39m(\u001b[38;5;124m'\u001b[39m\u001b[38;5;124msalary\u001b[39m\u001b[38;5;124m'\u001b[39m, emp\u001b[38;5;241m.\u001b[39m__salary)\n",
      "\u001b[1;31mNameError\u001b[0m: name 'Eployee' is not defined"
     ]
    }
   ],
   "source": [
    "# creating object of a class\n",
    "emp = Eployee('Jessa', 10000)\n",
    "\n",
    "# \n",
    "print('salary', emp.__salary)"
   ]
  },
  {
   "cell_type": "code",
   "execution_count": 7,
   "id": "08bd104a",
   "metadata": {},
   "outputs": [
    {
     "ename": "TypeError",
     "evalue": "__init__() missing 1 required positional argument: 'project'",
     "output_type": "error",
     "traceback": [
      "\u001b[1;31m---------------------------------------------------------------------------\u001b[0m",
      "\u001b[1;31mTypeError\u001b[0m                                 Traceback (most recent call last)",
      "Input \u001b[1;32mIn [7]\u001b[0m, in \u001b[0;36m<cell line: 14>\u001b[1;34m()\u001b[0m\n\u001b[0;32m     11\u001b[0m         \u001b[38;5;28mprint\u001b[39m(\u001b[38;5;124m\"\u001b[39m\u001b[38;5;124mName: \u001b[39m\u001b[38;5;124m\"\u001b[39m, \u001b[38;5;28mself\u001b[39m\u001b[38;5;241m.\u001b[39mname, \u001b[38;5;124m'\u001b[39m\u001b[38;5;124mSalary:\u001b[39m\u001b[38;5;124m'\u001b[39m, \u001b[38;5;28mself\u001b[39m\u001b[38;5;241m.\u001b[39m_Employee__salary)\n\u001b[0;32m     13\u001b[0m     \u001b[38;5;66;03m# creating object of a class\u001b[39;00m\n\u001b[1;32m---> 14\u001b[0m emp \u001b[38;5;241m=\u001b[39m \u001b[43mEmployee\u001b[49m\u001b[43m(\u001b[49m\u001b[38;5;124;43m'\u001b[39;49m\u001b[38;5;124;43mJessa\u001b[39;49m\u001b[38;5;124;43m'\u001b[39;49m\u001b[43m,\u001b[49m\u001b[43m \u001b[49m\u001b[38;5;241;43m10000\u001b[39;49m\u001b[43m)\u001b[49m\n\u001b[0;32m     16\u001b[0m \u001b[38;5;66;03m# \u001b[39;00m\n\u001b[0;32m     17\u001b[0m \u001b[38;5;28mprint\u001b[39m(\u001b[38;5;124m'\u001b[39m\u001b[38;5;124msalary\u001b[39m\u001b[38;5;124m'\u001b[39m, emp\u001b[38;5;241m.\u001b[39m__salary)\n",
      "\u001b[1;31mTypeError\u001b[0m: __init__() missing 1 required positional argument: 'project'"
     ]
    }
   ],
   "source": [
    "class Employee:\n",
    "    \n",
    "    # constructor\n",
    "    def __init__(self, name, salary, project):\n",
    "        self.name = name\n",
    "        self.salary = salary\n",
    "        self.project = project\n",
    "        \n",
    "    # public instance methods\n",
    "    def show(self):\n",
    "        print(\"Name: \", self.name, 'Salary:', self._Employee__salary)\n",
    "        \n",
    "    # creating object of a class\n",
    "emp = Employee('Jessa', 10000)\n",
    "\n",
    "# \n",
    "print('salary', emp.__salary)\n",
    "emp.show()\n",
    "print(\"Name: \", self.name, 'Salary:', self._Employee__salary)"
   ]
  }
 ],
 "metadata": {
  "kernelspec": {
   "display_name": "Python 3 (ipykernel)",
   "language": "python",
   "name": "python3"
  },
  "language_info": {
   "codemirror_mode": {
    "name": "ipython",
    "version": 3
   },
   "file_extension": ".py",
   "mimetype": "text/x-python",
   "name": "python",
   "nbconvert_exporter": "python",
   "pygments_lexer": "ipython3",
   "version": "3.8.13"
  }
 },
 "nbformat": 4,
 "nbformat_minor": 5
}
